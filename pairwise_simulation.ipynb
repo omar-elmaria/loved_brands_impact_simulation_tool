{
 "cells": [
  {
   "cell_type": "markdown",
   "metadata": {},
   "source": [
    "### Step 1: Load the packages"
   ]
  },
  {
   "cell_type": "code",
   "execution_count": 1,
   "metadata": {},
   "outputs": [
    {
     "name": "stderr",
     "output_type": "stream",
     "text": [
      "g:\\My Drive\\APAC\\Autopricing\\Switchback Testing\\switchback_test_dag\\venv_sb\\lib\\site-packages\\requests\\__init__.py:109: RequestsDependencyWarning: urllib3 (1.26.11) or chardet (5.0.0)/charset_normalizer (2.0.12) doesn't match a supported version!\n",
      "  warnings.warn(\n"
     ]
    }
   ],
   "source": [
    "import pandas as pd\n",
    "import numpy as np\n",
    "from google.cloud import bigquery\n",
    "from google.cloud import bigquery_storage\n",
    "from sklearn.linear_model import LinearRegression\n",
    "import seaborn as sns\n",
    "import matplotlib.pyplot as plt\n",
    "import warnings\n",
    "warnings.filterwarnings(action=\"ignore\")"
   ]
  },
  {
   "cell_type": "markdown",
   "metadata": {},
   "source": [
    "### Step 2.1: Read the SQL code and execute the query that pulls the data"
   ]
  },
  {
   "cell_type": "code",
   "execution_count": 57,
   "metadata": {},
   "outputs": [],
   "source": [
    "# Read the query\n",
    "path = \"G:/My Drive/APAC/Autopricing/Vendor Clustering Automation/loved_brands_pairwise_simulation_tool/data_extraction_query.sql\"\n",
    "f = open(file=path, mode=\"r\")\n",
    "query = f.read()\n",
    "f.close()\n",
    "\n",
    "# Instantiate a BQ client\n",
    "client = bigquery.Client(project=\"dh-logistics-product-ops\")\n",
    "bqstorage_client = bigquery_storage.BigQueryReadClient()"
   ]
  },
  {
   "cell_type": "markdown",
   "metadata": {},
   "source": [
    "### Step 2.2: Run the query"
   ]
  },
  {
   "cell_type": "code",
   "execution_count": 9,
   "metadata": {},
   "outputs": [
    {
     "data": {
      "text/plain": [
       "<google.cloud.bigquery.table._EmptyRowIterator at 0x1c8ee30caf0>"
      ]
     },
     "execution_count": 9,
     "metadata": {},
     "output_type": "execute_result"
    }
   ],
   "source": [
    "client.query(query=query).result()"
   ]
  },
  {
   "cell_type": "markdown",
   "metadata": {},
   "source": [
    "### Step 3.1: Pull the data from the generated tables"
   ]
  },
  {
   "cell_type": "code",
   "execution_count": 93,
   "metadata": {},
   "outputs": [
    {
     "name": "stderr",
     "output_type": "stream",
     "text": [
      "Query complete after 0.57s: 100%|██████████| 1/1 [00:00<00:00,  1.76query/s]\n",
      "Downloading: 100%|██████████| 41807/41807 [00:03<00:00, 13728.15rows/s]\n"
     ]
    }
   ],
   "source": [
    "df = client\\\n",
    "    .query(query=\"\"\"SELECT * FROM `dh-logistics-product-ops.pricing.asa_level_data_loved_brands_pairwise_simulation` ORDER BY entity_id, master_asa_id, is_lb_lm, tier_rank_master_asa\"\"\")\\\n",
    "    .to_dataframe(bqstorage_client=bqstorage_client, progress_bar_type=\"tqdm\")"
   ]
  },
  {
   "cell_type": "markdown",
   "metadata": {},
   "source": [
    "### Step 3.2: Change the data types of some columns"
   ]
  },
  {
   "cell_type": "code",
   "execution_count": 94,
   "metadata": {},
   "outputs": [],
   "source": [
    "numeric_cols = [\n",
    "       # Integer columns\n",
    "       \"master_asa_id\",\n",
    "       \"vendor_count_caught_by_asa\",\n",
    "       \"tier_rank_master_asa\",\n",
    "       \"num_tiers_master_asa\",\n",
    "       \"order_count_vendor_cluster_tt_fee_level\",\n",
    "       \"order_count_vendor_cluster_level\",\n",
    "       \"order_count_master_asa_level\",\n",
    "       \"order_count_entity_level\",\n",
    "       \"previous_order_count_vendor_cluster_tt_fee_level\",\n",
    "       \n",
    "       # Float columns\n",
    "       \"fee\",\n",
    "       \"min_tt_fee_master_asa_level\",\n",
    "       \"df_revenue_local_vendor_cluster_tt_fee_level\",\n",
    "       \"df_revenue_eur_vendor_cluster_tt_fee_level\",\n",
    "       \"vendor_gmv_local_vendor_cluster_tt_fee_level\",\n",
    "       \"vendor_gmv_eur_vendor_cluster_tt_fee_level\",\n",
    "       \"gp_local_vendor_cluster_tt_fee_level\",\n",
    "       \"gp_eur_vendor_cluster_tt_fee_level\",\n",
    "       \"vendor_cluster_order_share_of_entity\",\n",
    "       \"master_asa_order_share_of_entity\",\n",
    "       \"df_revenue_local_vendor_cluster_level\", \"df_revenue_eur_vendor_cluster_level\",\n",
    "       \"gmv_local_vendor_cluster_level\", \"gmv_eur_vendor_cluster_level\", \n",
    "       \"gp_local_vendor_cluster_level\", \"gp_eur_vendor_cluster_level\",\n",
    "       \"previous_fee_vendor_cluster_tt_fee_level\",\n",
    "       \"tier_elasticity_vendor_cluster_level\",\n",
    "       \"fee_pct_diff_vendor_cluster_level\"\n",
    "]\n",
    "\n",
    "df[numeric_cols] = df[numeric_cols].apply(pd.to_numeric)"
   ]
  },
  {
   "cell_type": "markdown",
   "metadata": {},
   "source": [
    "### Step 4.1: Flag the outlier elasticity values"
   ]
  },
  {
   "cell_type": "code",
   "execution_count": 95,
   "metadata": {},
   "outputs": [],
   "source": [
    "# Create a list of grouping variables. They will be used in several steps below\n",
    "grouping_vars = [\"region\", \"entity_id\", \"country_code\", \"master_asa_id\", \"asa_common_name\", \"is_asa_clustered\", \"is_lb_lm\"]\n",
    "\n",
    "# Filter for rows with non-null elasticity values\n",
    "df_no_null_elasta = df.loc[df[\"tier_elasticity_vendor_cluster_level\"].notnull(), :]\n",
    "\n",
    "# Create a grouped object\n",
    "df_grouped = df_no_null_elasta.groupby(grouping_vars, as_index=False)[\"tier_elasticity_vendor_cluster_level\"]\n",
    "\n",
    "df_q25_elasta = df_grouped.apply(np.percentile, q=25).rename(columns=dict(tier_elasticity_vendor_cluster_level= \"q25\")) # type: ignore\n",
    "df_q75_elasta = df_grouped.apply(np.percentile, q=75).rename(columns=dict(tier_elasticity_vendor_cluster_level= \"q75\")) # type: ignore\n",
    "\n",
    "# Join df_q25_elasta and df_q75_elasta to df\n",
    "df = df\\\n",
    "    .merge(right=df_q25_elasta, on=grouping_vars, how=\"left\")\\\n",
    "    .merge(right=df_q75_elasta, on=grouping_vars, how=\"left\")\n",
    "\n",
    "# Calculate the IQR, upper bound and lower bound\n",
    "df[\"iqr\"] = df[\"q75\"] - df[\"q25\"]\n",
    "df[\"lower_bound\"] = df[\"q25\"] - 1.5 * df[\"iqr\"]\n",
    "df[\"upper_bound\"] = df[\"q75\"] + 1.5 * df[\"iqr\"]\n",
    "df[\"is_elasticity_remove\"] = np.where(\n",
    "    (np.isnan(df[\"tier_elasticity_vendor_cluster_level\"])) | # If elasticity value is NaN\n",
    "    (df[\"tier_elasticity_vendor_cluster_level\"] < df[\"lower_bound\"]) | # ... or below lower bound\n",
    "    (df[\"tier_elasticity_vendor_cluster_level\"] > df[\"upper_bound\"]), # ... or above upper bound\n",
    "    True, # Value of flag if the condition evaluates to True\n",
    "    False # Value of flag if the condition evaluates to False\n",
    ")"
   ]
  },
  {
   "cell_type": "markdown",
   "metadata": {},
   "source": [
    "### Step 4.2: Remove the outlier elasticity values and calculate the average and median elasticity per vendor cluster"
   ]
  },
  {
   "cell_type": "code",
   "execution_count": 96,
   "metadata": {},
   "outputs": [],
   "source": [
    "df_agg_elasticity = df[df[\"is_elasticity_remove\"] == False]\\\n",
    "    .groupby(grouping_vars)[\"tier_elasticity_vendor_cluster_level\"]\\\n",
    "    .agg(['median', 'mean'], axis=1)\\\n",
    "    .rename(columns={\"median\": \"median_cluster_elasticity\", \"mean\": \"mean_cluster_elasticity\"})\\\n",
    "    .reset_index()\n",
    "\n",
    "df = pd.merge(left = df, right=df_agg_elasticity, on=grouping_vars, how=\"left\")"
   ]
  },
  {
   "cell_type": "markdown",
   "metadata": {},
   "source": [
    "### Step 4.3: Apply a linear model to the elasticity data to obtain a slope and an intercept"
   ]
  },
  {
   "cell_type": "code",
   "execution_count": 97,
   "metadata": {},
   "outputs": [],
   "source": [
    "# Define a function that fits a line through the elasticity data points\n",
    "def lm_model_fee_elasticity(df):\n",
    "    data_x = df[~df[\"tier_elasticity_vendor_cluster_level\"].isnull()][\"fee\"].values.reshape(-1,1)\n",
    "    data_y = df[~df[\"tier_elasticity_vendor_cluster_level\"].isnull()][\"tier_elasticity_vendor_cluster_level\"].values.reshape(-1,1)\n",
    "    # sample_weight = df[~df[\"previous_order_count_vendor_cluster_tt_fee_level\"].isnull()][\"previous_order_count_vendor_cluster_tt_fee_level\"].values\n",
    "    sample_weight = df[~df[\"tier_elasticity_vendor_cluster_level\"].isnull()][\"previous_order_count_vendor_cluster_tt_fee_level\"].values\n",
    "    lm = LinearRegression()\n",
    "    lm.fit(X=data_x, y=data_y, sample_weight=sample_weight)\n",
    "    return float(np.squeeze(lm.coef_)), float(np.squeeze(lm.intercept_))"
   ]
  },
  {
   "cell_type": "code",
   "execution_count": 98,
   "metadata": {},
   "outputs": [],
   "source": [
    "# Define a function that fits a line through the fee x order count per TT fee tier curve\n",
    "def lm_model_tt_fee_curve(df):\n",
    "    data_x = df[~df[\"order_count_vendor_cluster_tt_fee_level\"].isnull()][\"fee\"].values.reshape(-1,1)\n",
    "    data_y = df[~df[\"order_count_vendor_cluster_tt_fee_level\"].isnull()][\"order_count_vendor_cluster_tt_fee_level\"].values.reshape(-1,1)\n",
    "    sample_weight = df[~df[\"order_count_vendor_cluster_tt_fee_level\"].isnull()][\"order_count_vendor_cluster_tt_fee_level\"].values\n",
    "    lm = LinearRegression()\n",
    "    lm.fit(X=data_x, y=data_y, sample_weight=sample_weight)\n",
    "    return float(np.squeeze(lm.coef_)), float(np.squeeze(lm.intercept_))"
   ]
  },
  {
   "cell_type": "code",
   "execution_count": 99,
   "metadata": {},
   "outputs": [],
   "source": [
    "# Create a function to apply the linear model to get the slope and intercept\n",
    "def apply_lm_model(dataframe, model, slope_col_name, intercept_col_name, which_model): # which_model can be \"elasticity\" or \"tt_fee\"\n",
    "    if which_model == \"elasticity\":\n",
    "        df_lm_elasticity = dataframe[dataframe[\"is_elasticity_remove\"] == False]\\\n",
    "            .groupby(grouping_vars)\\\n",
    "            .apply(model)  # type: ignore\n",
    "    else:\n",
    "        df_lm_elasticity = dataframe\\\n",
    "            .groupby(grouping_vars)\\\n",
    "            .apply(model)  # type: ignore\n",
    "\n",
    "    # Split the slope_intercept tuple into two columns\n",
    "    df_lm_elasticity = pd.DataFrame(df_lm_elasticity, columns=[\"slope_intercept\"])\n",
    "    df_lm_elasticity[[slope_col_name, intercept_col_name]] = pd.DataFrame(df_lm_elasticity['slope_intercept'].tolist(), index=df_lm_elasticity.index)\n",
    "    df_lm_elasticity.reset_index(drop=False, inplace=True)\n",
    "\n",
    "    # Join \"df_lm_elasticity\" to \"df\"\n",
    "    dataframe = pd.merge(left = dataframe, right=df_lm_elasticity.drop(labels=\"slope_intercept\", axis=1), on=grouping_vars, how=\"left\").reset_index(drop=True)\n",
    "    \n",
    "    if which_model == \"elasticity\":\n",
    "        return dataframe\n",
    "    else:\n",
    "        return df_lm_elasticity"
   ]
  },
  {
   "cell_type": "code",
   "execution_count": 100,
   "metadata": {},
   "outputs": [],
   "source": [
    "# Apply the fee x elasticity linear model\n",
    "df = apply_lm_model(dataframe=df, model=lm_model_fee_elasticity, slope_col_name=\"ela_lm_slope\", intercept_col_name=\"ela_lm_intercept\", which_model=\"elasticity\")\n",
    "\n",
    "# Apply the fee x orders linear model\n",
    "# Create a dataframe containing the ASA IDs with enough orders. These are the ASAs with which the linear regression won't throw an error \n",
    "df_zero_order_asas = df.groupby(grouping_vars, as_index=False)[\"order_count_vendor_cluster_tt_fee_level\"].sum()\n",
    "df_zero_order_asas[\"is_zero_order_asa\"] = np.where(df_zero_order_asas[\"order_count_vendor_cluster_tt_fee_level\"] == 0, \"Y\", \"N\")\n",
    "df_zero_order_asas = df_zero_order_asas[df_zero_order_asas[\"is_zero_order_asa\"] == \"N\"]\n",
    "\n",
    "df_tt_fee_curve_lm = apply_lm_model(\n",
    "    dataframe=pd.merge(left=df, right=df_zero_order_asas.drop(\"order_count_vendor_cluster_tt_fee_level\", axis=1), on=grouping_vars, how=\"inner\"),\n",
    "    model=lm_model_tt_fee_curve, slope_col_name=\"tt_fee_curve_lm_slope\", intercept_col_name=\"tt_fee_curve_lm_intercept\", which_model=\"tt_fee\"\n",
    ")\n",
    "\n",
    "df = pd.merge(left=df, right=df_tt_fee_curve_lm.drop(\"slope_intercept\", axis=1), on=grouping_vars, how=\"left\")"
   ]
  },
  {
   "cell_type": "markdown",
   "metadata": {},
   "source": [
    "### Step 4.4: Obtain the aggregated metrics per vendor cluster"
   ]
  },
  {
   "cell_type": "code",
   "execution_count": 101,
   "metadata": {},
   "outputs": [],
   "source": [
    "# Create a list of variables that can be aggregated\n",
    "agg_vars = [\n",
    "    \"vendor_count_caught_by_asa\", \"num_tiers_master_asa\",\n",
    "    \"order_count_vendor_cluster_level\", \"order_count_master_asa_level\", \"order_count_entity_level\", \"vendor_cluster_order_share_of_entity\", \"master_asa_order_share_of_entity\",\n",
    "    \"tot_revenue_local_vendor_cluster_level\", \"tot_revenue_eur_vendor_cluster_level\",\n",
    "    \"df_revenue_local_vendor_cluster_level\", \"df_revenue_eur_vendor_cluster_level\",\n",
    "    \"gmv_local_vendor_cluster_level\", \"gmv_eur_vendor_cluster_level\",\n",
    "    \"gp_local_vendor_cluster_level\", \"gp_eur_vendor_cluster_level\",\n",
    "    \"median_cluster_elasticity\", \"mean_cluster_elasticity\", \"ela_lm_slope\", \"ela_lm_intercept\", \"tt_fee_curve_lm_slope\", \"tt_fee_curve_lm_intercept\"\n",
    "]\n",
    "\n",
    "# Calculate the weighted average TT fee of each vendor cluster\n",
    "df_avg_df = df\\\n",
    "    .groupby(grouping_vars, as_index=False)\\\n",
    "    .apply(lambda x: sum(x[\"fee\"] * x[\"order_count_vendor_cluster_tt_fee_level\"]) / sum(x[\"order_count_vendor_cluster_tt_fee_level\"]))\n",
    "\n",
    "df_avg_df.rename(columns={None: \"order_wtd_avg_df_local\"}, inplace=True)  # type: ignore\n",
    "\n",
    "# Aggregate the metrics defined above\n",
    "df_vendor_cluster_agg = df.groupby(grouping_vars, as_index=False)[agg_vars].mean()\n",
    "df_vendor_cluster_agg = df_vendor_cluster_agg.assign(\n",
    "    gpo_eur = df_vendor_cluster_agg[\"gp_eur_vendor_cluster_level\"] / df_vendor_cluster_agg[\"order_count_vendor_cluster_level\"],\n",
    "    gpo_local = df_vendor_cluster_agg[\"gp_local_vendor_cluster_level\"] / df_vendor_cluster_agg[\"order_count_vendor_cluster_level\"],\n",
    "    gmv_per_order_eur = df_vendor_cluster_agg[\"gmv_eur_vendor_cluster_level\"] / df_vendor_cluster_agg[\"order_count_vendor_cluster_level\"],\n",
    "    gmv_per_order_local = df_vendor_cluster_agg[\"gmv_local_vendor_cluster_level\"] / df_vendor_cluster_agg[\"order_count_vendor_cluster_level\"],\n",
    "    df_pct_gmv = df_vendor_cluster_agg[\"df_revenue_eur_vendor_cluster_level\"] / df_vendor_cluster_agg[\"gmv_eur_vendor_cluster_level\"],\n",
    "    df_pct_revenue = df_vendor_cluster_agg[\"df_revenue_eur_vendor_cluster_level\"] / df_vendor_cluster_agg[\"tot_revenue_eur_vendor_cluster_level\"]\n",
    ")\n",
    "\n",
    "# Join \"df_vendor_cluster_agg\" and \"df_avg_df\"\n",
    "df_vendor_cluster_agg = pd.merge(left=df_vendor_cluster_agg, right=df_avg_df, on=grouping_vars, how=\"left\")"
   ]
  },
  {
   "cell_type": "markdown",
   "metadata": {},
   "source": [
    "### Step 4.5: Create a function that models out the projected profit and gmv"
   ]
  },
  {
   "cell_type": "code",
   "execution_count": 102,
   "metadata": {},
   "outputs": [],
   "source": [
    "def kpi_model_func(df, avg_df_chng_lb, avg_df_chng_non_lb):\n",
    "    # Create a new column giving the avg DF change per vendor cluster\n",
    "    df[\"avg_df_chng\"] = np.where(df[\"is_lb_lm\"] == \"Y\", avg_df_chng_lb, avg_df_chng_non_lb)\n",
    "\n",
    "    # The model is based on TT fee against elasticity, so we need a new TT fee value to calculate the new elasticity\n",
    "    df[\"order_wtd_avg_df_local_new\"] = df[\"order_wtd_avg_df_local\"] * (1 + df[\"avg_df_chng\"])\n",
    "    \n",
    "    # Calculate the impact on GP and GMV from the avg DF change\n",
    "    df = df.assign(\n",
    "        gpo_impact = df[\"avg_df_chng\"] * df[\"df_pct_revenue\"],\n",
    "        gmv_impact = df[\"avg_df_chng\"] * df[\"df_pct_gmv\"]\n",
    "    )\n",
    "\n",
    "    # Calculate the projected elasticity from the \"avg_df_chng\" field\n",
    "    df = df.assign(\n",
    "        exp_elasticity = df[\"ela_lm_slope\"] * df[\"order_wtd_avg_df_local_new\"] + df[\"ela_lm_intercept\"]\n",
    "    )\n",
    "\n",
    "    # Calculate the projected GPO, GMV per order, total order volume\n",
    "    df = df.assign(\n",
    "        exp_gpo_eur = np.where(\n",
    "            df[\"gpo_eur\"] > 0,\n",
    "            df[\"gpo_eur\"] * (1 + df[\"gpo_impact\"]),\n",
    "            df[\"gpo_eur\"] * (1 - df[\"gpo_impact\"])\n",
    "        ), # To deal with negative GPO values\n",
    "        exp_gpo_local = np.where(\n",
    "            df[\"gpo_local\"] > 0,\n",
    "            df[\"gpo_local\"] * (1 + df[\"gpo_impact\"]),\n",
    "            df[\"gpo_local\"] * (1 - df[\"gpo_impact\"])\n",
    "        ), # To deal with negative GPO values\n",
    "\n",
    "        exp_gmv_per_order_eur = df[\"gmv_per_order_eur\"] * (1 + df[\"gmv_impact\"]),\n",
    "        exp_gmv_per_order_local = df[\"gmv_per_order_local\"] * (1 + df[\"gmv_impact\"]),\n",
    "        # exp_order_count = (1 + (df[\"avg_df_chng\"] * df[\"median_cluster_elasticity\"])) * df[\"order_count_vendor_cluster_level\"] # Using the median cluster elasticity\n",
    "        exp_order_count = ((df[\"avg_df_chng\"] * df[\"exp_elasticity\"]) + 1) * df[\"order_count_vendor_cluster_level\"] # Using the elasticity from the linear model\n",
    "    )\n",
    "\n",
    "    # The np.where method changes the data type of \"exp_gpo_eur\" and \"exp_gpo_local\" to \"object\", which causes the rest of the functions to fail. Change the data type back to numeric\n",
    "    df[[\"exp_gpo_eur\", \"exp_gpo_local\"]] = df[[\"exp_gpo_eur\", \"exp_gpo_local\"]].apply(pd.to_numeric)\n",
    "\n",
    "    # Calculate the projected total gross profit and GMV\n",
    "    df = df.assign(\n",
    "        exp_tot_gp_eur = df[\"exp_gpo_eur\"] * df[\"exp_order_count\"],\n",
    "        exp_tot_gp_local = df[\"exp_gpo_local\"] * df[\"exp_order_count\"],\n",
    "        exp_tot_gmv_eur = df[\"exp_gmv_per_order_eur\"] * df[\"exp_order_count\"],\n",
    "        exp_tot_gmv_local = df[\"exp_gmv_per_order_local\"] * df[\"exp_order_count\"]\n",
    "    )\n",
    "\n",
    "    # Overall (two groups summed)\n",
    "    df_result_overall = df\\\n",
    "        .groupby([\"region\", \"entity_id\", \"country_code\", \"master_asa_id\", \"asa_common_name\", \"is_asa_clustered\"])[\"exp_tot_gp_eur\", \"exp_tot_gp_local\", \"exp_tot_gmv_eur\", \"exp_tot_gmv_local\"]\\\n",
    "        .sum()\\\n",
    "        .reset_index()\n",
    "    df_result_overall = df_result_overall.assign(\n",
    "        avg_df_chng_lb = avg_df_chng_lb,\n",
    "        avg_df_chng_non_lb = avg_df_chng_non_lb\n",
    "    )\n",
    "\n",
    "    # The \"groupby\" - \"sum\" operation above changes all \"None\" to \"0\". These \"0\" values come from ASAs whose median_cluster_elasticity is None because they have one DF tier\n",
    "    return df, df_result_overall"
   ]
  },
  {
   "cell_type": "markdown",
   "metadata": {},
   "source": [
    "### Step 4.6: Loop over different avg DF changes for LBs and non-LBs to construct a dataset that can be used for the heatmaps"
   ]
  },
  {
   "cell_type": "code",
   "execution_count": 134,
   "metadata": {},
   "outputs": [],
   "source": [
    "df_model = []\n",
    "df_raw = []\n",
    "lb_avg_df_chng = np.arange(start=-0.15, stop=0.16, step=0.01).round(2).tolist()\n",
    "non_lb_avg_df_chng = np.arange(start=-0.15, stop=0.16, step=0.01).round(2).tolist()\n",
    "\n",
    "for lb in lb_avg_df_chng:\n",
    "    for nlb in non_lb_avg_df_chng:\n",
    "        df_vendor_cluster_agg_iter, df_result_overall_iter = kpi_model_func(df=df_vendor_cluster_agg, avg_df_chng_lb=lb, avg_df_chng_non_lb=nlb)\n",
    "        df_model.append(df_result_overall_iter)\n",
    "        df_raw.append(df_vendor_cluster_agg_iter)\n",
    "    \n",
    "df_model = pd.concat(df_model)\n",
    "df_raw = pd.concat(df_raw)\n",
    "df_model = df_model.reset_index(drop=True)\n",
    "df_raw = df_raw.reset_index(drop=True)"
   ]
  },
  {
   "cell_type": "markdown",
   "metadata": {},
   "source": [
    "### Step 4.7: Calculate the order count, median elasticity, and median and average expected LM elasticity per vendor group"
   ]
  },
  {
   "cell_type": "code",
   "execution_count": 135,
   "metadata": {},
   "outputs": [],
   "source": [
    "# Create a list of columns that will form the dataset\n",
    "supp_data_cols = grouping_vars.copy()\n",
    "supp_data_cols.extend([\"tt_fee_curve_lm_slope\", \"order_count_vendor_cluster_level\", \"median_cluster_elasticity\", \"exp_elasticity\"]) # Add three columns to the grouping_vars list\n",
    "\n",
    "# Create the dataset\n",
    "df_supp_data = df_raw[supp_data_cols].drop_duplicates().reset_index(drop=True) # type: ignore\n",
    "\n",
    "# Aggregate the metrics\n",
    "df_supp_data = df_supp_data\\\n",
    "    .groupby(grouping_vars, as_index=False)\\\n",
    "    .agg({\"tt_fee_curve_lm_slope\": \"mean\", \"order_count_vendor_cluster_level\": \"mean\", \"median_cluster_elasticity\": \"mean\", \"exp_elasticity\": \"median\"})"
   ]
  },
  {
   "cell_type": "markdown",
   "metadata": {},
   "source": [
    "### Step 5: Upload the resulting table to BQ"
   ]
  },
  {
   "cell_type": "code",
   "execution_count": 105,
   "metadata": {},
   "outputs": [],
   "source": [
    "job_config = bigquery.LoadJobConfig()\n",
    "job_config.write_disposition = bigquery.WriteDisposition.WRITE_TRUNCATE\n",
    "\n",
    "job = client.load_table_from_dataframe(\n",
    "    dataframe=df_supp_data, # type: ignore\n",
    "    destination=\"dh-logistics-product-ops.pricing.lb_raw_results_pairwise_simulation\",\n",
    "    job_config=job_config\n",
    ").result()"
   ]
  },
  {
   "cell_type": "code",
   "execution_count": 106,
   "metadata": {},
   "outputs": [],
   "source": [
    "job = client.load_table_from_dataframe(\n",
    "    dataframe=df_model, # type: ignore\n",
    "    destination=\"dh-logistics-product-ops.pricing.lb_model_results_pairwise_simulation\",\n",
    "    job_config=job_config\n",
    ").result()"
   ]
  },
  {
   "cell_type": "code",
   "execution_count": 107,
   "metadata": {},
   "outputs": [],
   "source": [
    "# Upload a data frame containing information about the order shares per TT fee to simplify the use of the DBDF optimizer\n",
    "job = client.load_table_from_dataframe(\n",
    "    dataframe=df[[\"region\", \"entity_id\", \"country_code\", \"master_asa_id\", \"asa_common_name\", \"is_asa_clustered\", \"is_lb_lm\", \"fee\", \"order_count_vendor_cluster_tt_fee_level\"]],\n",
    "    destination=\"dh-logistics-product-ops.pricing.order_shares_per_tt_fee_tier_pairwise_simulation\",\n",
    "    job_config=job_config\n",
    ").result()"
   ]
  },
  {
   "cell_type": "code",
   "execution_count": 108,
   "metadata": {},
   "outputs": [],
   "source": [
    "\n",
    "# Upload a data frame containing information about the order-weighted avg DF changes to simplify the use of the DBDF optimizer\n",
    "order_wtd_avg_df_changes = df_raw.groupby([\"region\", \"entity_id\", \"country_code\", \"master_asa_id\", \"asa_common_name\", \"is_asa_clustered\", \"is_lb_lm\", \"avg_df_chng\"], as_index=False)[\"avg_df_chng\", \"order_wtd_avg_df_local\", \"order_wtd_avg_df_local_new\"]\\\n",
    "    .mean()\\\n",
    "    .sort_values(by=[\"entity_id\", \"master_asa_id\", \"is_lb_lm\", \"avg_df_chng\"])\n",
    "\n",
    "job = client.load_table_from_dataframe(\n",
    "    dataframe=order_wtd_avg_df_changes,\n",
    "    destination=\"dh-logistics-product-ops.pricing.order_wtd_avg_tt_fee_changes_pairwise_simulation\",\n",
    "    job_config=job_config\n",
    ").result()"
   ]
  },
  {
   "cell_type": "markdown",
   "metadata": {},
   "source": [
    "### Step 6: Validate the theory that stark differences in elasticities yield diverging recommendations from LBs and non-LBs"
   ]
  },
  {
   "cell_type": "code",
   "execution_count": 136,
   "metadata": {},
   "outputs": [],
   "source": [
    "# Prepare the data\n",
    "common_cols_val_theory = df_supp_data.columns[df_supp_data.columns != \"is_lb_lm\"].tolist()\n",
    "grouping_cols_val_theory = [\"region\", \"entity_id\", \"country_code\", \"master_asa_id\", \"asa_common_name\", \"is_asa_clustered\"]\n",
    "df_left_val_theory = df_supp_data[df_supp_data[\"is_lb_lm\"] == \"Y\"][common_cols_val_theory]\n",
    "df_right_val_theory = df_supp_data[df_supp_data[\"is_lb_lm\"] == \"N\"][common_cols_val_theory]\n",
    "\n",
    "# Combine both data frames\n",
    "df_val_theory = pd.merge(left=df_left_val_theory, right=df_right_val_theory, how=\"left\", on=grouping_cols_val_theory, suffixes=[\"_lb\", \"_nlb\"])\n",
    "\n",
    "# Create two new columns showing the elasticity ratios according to the LM and the raw data\n",
    "df_val_theory = df_val_theory.assign(\n",
    "    diff_exp_lm_elasticity = df_val_theory[\"exp_elasticity_lb\"] - df_val_theory[\"exp_elasticity_nlb\"], # Calculate the difference between the LB and non-LB expected LM elasticity ratio\n",
    "    exp_lm_elasticity_ratio = df_val_theory[\"exp_elasticity_nlb\"] / df_val_theory[\"exp_elasticity_lb\"],\n",
    "    raw_elasticity_ratio = df_val_theory[\"median_cluster_elasticity_nlb\"] / df_val_theory[\"median_cluster_elasticity_lb\"],\n",
    "    tt_fee_curve_lm_ratio = df_val_theory[\"tt_fee_curve_lm_slope_nlb\"] / df_val_theory[\"tt_fee_curve_lm_slope_lb\"]\n",
    ")"
   ]
  },
  {
   "cell_type": "code",
   "execution_count": 141,
   "metadata": {},
   "outputs": [
    {
     "data": {
      "text/html": [
       "<div>\n",
       "<style scoped>\n",
       "    .dataframe tbody tr th:only-of-type {\n",
       "        vertical-align: middle;\n",
       "    }\n",
       "\n",
       "    .dataframe tbody tr th {\n",
       "        vertical-align: top;\n",
       "    }\n",
       "\n",
       "    .dataframe thead th {\n",
       "        text-align: right;\n",
       "    }\n",
       "</style>\n",
       "<table border=\"1\" class=\"dataframe\">\n",
       "  <thead>\n",
       "    <tr style=\"text-align: right;\">\n",
       "      <th></th>\n",
       "      <th>master_asa_id</th>\n",
       "      <th>tt_fee_curve_lm_ratio</th>\n",
       "      <th>exp_lm_elasticity_ratio</th>\n",
       "      <th>raw_elasticity_ratio</th>\n",
       "      <th>diff_exp_lm_elasticity</th>\n",
       "    </tr>\n",
       "  </thead>\n",
       "  <tbody>\n",
       "    <tr>\n",
       "      <th>520</th>\n",
       "      <td>246</td>\n",
       "      <td>-1.557674</td>\n",
       "      <td>0.282998</td>\n",
       "      <td>1.093111</td>\n",
       "      <td>3.681908</td>\n",
       "    </tr>\n",
       "    <tr>\n",
       "      <th>444</th>\n",
       "      <td>16</td>\n",
       "      <td>-0.612170</td>\n",
       "      <td>0.484375</td>\n",
       "      <td>1.463149</td>\n",
       "      <td>1.879556</td>\n",
       "    </tr>\n",
       "    <tr>\n",
       "      <th>463</th>\n",
       "      <td>97</td>\n",
       "      <td>12.604252</td>\n",
       "      <td>0.386180</td>\n",
       "      <td>1.019830</td>\n",
       "      <td>1.752017</td>\n",
       "    </tr>\n",
       "    <tr>\n",
       "      <th>486</th>\n",
       "      <td>154</td>\n",
       "      <td>1.405119</td>\n",
       "      <td>12.162375</td>\n",
       "      <td>1.084948</td>\n",
       "      <td>1.464177</td>\n",
       "    </tr>\n",
       "    <tr>\n",
       "      <th>464</th>\n",
       "      <td>111</td>\n",
       "      <td>-0.119994</td>\n",
       "      <td>0.398349</td>\n",
       "      <td>2.407827</td>\n",
       "      <td>1.456624</td>\n",
       "    </tr>\n",
       "    <tr>\n",
       "      <th>518</th>\n",
       "      <td>212</td>\n",
       "      <td>-585.577279</td>\n",
       "      <td>-0.958642</td>\n",
       "      <td>1.503833</td>\n",
       "      <td>1.279099</td>\n",
       "    </tr>\n",
       "    <tr>\n",
       "      <th>512</th>\n",
       "      <td>183</td>\n",
       "      <td>-5.397918</td>\n",
       "      <td>-0.149024</td>\n",
       "      <td>0.423140</td>\n",
       "      <td>0.788889</td>\n",
       "    </tr>\n",
       "    <tr>\n",
       "      <th>452</th>\n",
       "      <td>74</td>\n",
       "      <td>2.695460</td>\n",
       "      <td>-0.981442</td>\n",
       "      <td>1.448937</td>\n",
       "      <td>0.744963</td>\n",
       "    </tr>\n",
       "    <tr>\n",
       "      <th>465</th>\n",
       "      <td>121</td>\n",
       "      <td>7.983707</td>\n",
       "      <td>1.432850</td>\n",
       "      <td>1.419282</td>\n",
       "      <td>0.743964</td>\n",
       "    </tr>\n",
       "    <tr>\n",
       "      <th>511</th>\n",
       "      <td>182</td>\n",
       "      <td>2.268679</td>\n",
       "      <td>-6.354295</td>\n",
       "      <td>1.600841</td>\n",
       "      <td>0.664917</td>\n",
       "    </tr>\n",
       "    <tr>\n",
       "      <th>519</th>\n",
       "      <td>245</td>\n",
       "      <td>7.874680</td>\n",
       "      <td>1.837457</td>\n",
       "      <td>1.114163</td>\n",
       "      <td>0.618921</td>\n",
       "    </tr>\n",
       "    <tr>\n",
       "      <th>449</th>\n",
       "      <td>71</td>\n",
       "      <td>16.210851</td>\n",
       "      <td>0.016553</td>\n",
       "      <td>0.824564</td>\n",
       "      <td>0.425579</td>\n",
       "    </tr>\n",
       "    <tr>\n",
       "      <th>487</th>\n",
       "      <td>155</td>\n",
       "      <td>0.710401</td>\n",
       "      <td>0.572621</td>\n",
       "      <td>0.425682</td>\n",
       "      <td>0.342558</td>\n",
       "    </tr>\n",
       "    <tr>\n",
       "      <th>459</th>\n",
       "      <td>85</td>\n",
       "      <td>5.708393</td>\n",
       "      <td>0.058242</td>\n",
       "      <td>1.106401</td>\n",
       "      <td>0.302689</td>\n",
       "    </tr>\n",
       "    <tr>\n",
       "      <th>462</th>\n",
       "      <td>96</td>\n",
       "      <td>0.661892</td>\n",
       "      <td>0.651460</td>\n",
       "      <td>1.008815</td>\n",
       "      <td>0.266550</td>\n",
       "    </tr>\n",
       "    <tr>\n",
       "      <th>516</th>\n",
       "      <td>191</td>\n",
       "      <td>1.956046</td>\n",
       "      <td>0.507006</td>\n",
       "      <td>1.133304</td>\n",
       "      <td>0.261320</td>\n",
       "    </tr>\n",
       "    <tr>\n",
       "      <th>497</th>\n",
       "      <td>167</td>\n",
       "      <td>-111.693428</td>\n",
       "      <td>4.706807</td>\n",
       "      <td>0.703169</td>\n",
       "      <td>0.238337</td>\n",
       "    </tr>\n",
       "    <tr>\n",
       "      <th>472</th>\n",
       "      <td>128</td>\n",
       "      <td>37.559050</td>\n",
       "      <td>2.181732</td>\n",
       "      <td>1.232003</td>\n",
       "      <td>0.182804</td>\n",
       "    </tr>\n",
       "    <tr>\n",
       "      <th>501</th>\n",
       "      <td>172</td>\n",
       "      <td>-0.131159</td>\n",
       "      <td>4.070456</td>\n",
       "      <td>0.907691</td>\n",
       "      <td>0.165356</td>\n",
       "    </tr>\n",
       "    <tr>\n",
       "      <th>498</th>\n",
       "      <td>169</td>\n",
       "      <td>1.195766</td>\n",
       "      <td>-0.101381</td>\n",
       "      <td>0.927525</td>\n",
       "      <td>0.161497</td>\n",
       "    </tr>\n",
       "  </tbody>\n",
       "</table>\n",
       "</div>"
      ],
      "text/plain": [
       "     master_asa_id  tt_fee_curve_lm_ratio  exp_lm_elasticity_ratio  \\\n",
       "520            246              -1.557674                 0.282998   \n",
       "444             16              -0.612170                 0.484375   \n",
       "463             97              12.604252                 0.386180   \n",
       "486            154               1.405119                12.162375   \n",
       "464            111              -0.119994                 0.398349   \n",
       "518            212            -585.577279                -0.958642   \n",
       "512            183              -5.397918                -0.149024   \n",
       "452             74               2.695460                -0.981442   \n",
       "465            121               7.983707                 1.432850   \n",
       "511            182               2.268679                -6.354295   \n",
       "519            245               7.874680                 1.837457   \n",
       "449             71              16.210851                 0.016553   \n",
       "487            155               0.710401                 0.572621   \n",
       "459             85               5.708393                 0.058242   \n",
       "462             96               0.661892                 0.651460   \n",
       "516            191               1.956046                 0.507006   \n",
       "497            167            -111.693428                 4.706807   \n",
       "472            128              37.559050                 2.181732   \n",
       "501            172              -0.131159                 4.070456   \n",
       "498            169               1.195766                -0.101381   \n",
       "\n",
       "     raw_elasticity_ratio  diff_exp_lm_elasticity  \n",
       "520              1.093111                3.681908  \n",
       "444              1.463149                1.879556  \n",
       "463              1.019830                1.752017  \n",
       "486              1.084948                1.464177  \n",
       "464              2.407827                1.456624  \n",
       "518              1.503833                1.279099  \n",
       "512              0.423140                0.788889  \n",
       "452              1.448937                0.744963  \n",
       "465              1.419282                0.743964  \n",
       "511              1.600841                0.664917  \n",
       "519              1.114163                0.618921  \n",
       "449              0.824564                0.425579  \n",
       "487              0.425682                0.342558  \n",
       "459              1.106401                0.302689  \n",
       "462              1.008815                0.266550  \n",
       "516              1.133304                0.261320  \n",
       "497              0.703169                0.238337  \n",
       "472              1.232003                0.182804  \n",
       "501              0.907691                0.165356  \n",
       "498              0.927525                0.161497  "
      ]
     },
     "execution_count": 141,
     "metadata": {},
     "output_type": "execute_result"
    }
   ],
   "source": [
    "df_val_theory[(df_val_theory[\"entity_id\"] == \"FP_MY\")][[\"master_asa_id\", \"tt_fee_curve_lm_ratio\", \"exp_lm_elasticity_ratio\", \"raw_elasticity_ratio\", \"diff_exp_lm_elasticity\"]].sort_values(by=\"diff_exp_lm_elasticity\", ascending=False).head(20)"
   ]
  },
  {
   "cell_type": "code",
   "execution_count": 137,
   "metadata": {},
   "outputs": [],
   "source": [
    "# Upload df_val_theory to BQ\n",
    "job = client.load_table_from_dataframe(\n",
    "    dataframe=df_val_theory,\n",
    "    destination=\"dh-logistics-product-ops.pricing.asa_finder_pairwise_simulation\",\n",
    "    job_config=job_config\n",
    ").result()"
   ]
  },
  {
   "cell_type": "markdown",
   "metadata": {},
   "source": [
    "### Step 7: Miscellaneous Charts "
   ]
  },
  {
   "cell_type": "code",
   "execution_count": 240,
   "metadata": {},
   "outputs": [
    {
     "data": {
      "text/plain": [
       "(-10.0, 10.0)"
      ]
     },
     "execution_count": 240,
     "metadata": {},
     "output_type": "execute_result"
    },
    {
     "data": {
      "image/png": "[encoded data removed]",
      "text/plain": [
       "<Figure size 566.236x500 with 1 Axes>"
      ]
     },
     "metadata": {},
     "output_type": "display_data"
    }
   ],
   "source": [
    "import seaborn as sns\n",
    "import matplotlib.pyplot as plt\n",
    "\n",
    "sns.displot(data = df_vendor_cluster_agg[df_vendor_cluster_agg[\"entity_id\"] == \"PY_AR\"], x = \"median_cluster_elasticity\", hue=\"is_lb_lm\")\n",
    "plt.xlim(-10,10)"
   ]
  }
 ],
 "metadata": {
  "kernelspec": {
   "display_name": "Python 3.10.7 ('venv_sb': venv)",
   "language": "python",
   "name": "python3"
  },
  "language_info": {
   "codemirror_mode": {
    "name": "ipython",
    "version": 3
   },
   "file_extension": ".py",
   "mimetype": "text/x-python",
   "name": "python",
   "nbconvert_exporter": "python",
   "pygments_lexer": "ipython3",
   "version": "3.10.7"
  },
  "orig_nbformat": 4,
  "vscode": {
   "interpreter": {
    "hash": "14e010e4cd1c1ecfc2a757c09121a44deab645fe879881bec23ed2eed3f5394d"
   }
  }
 },
 "nbformat": 4,
 "nbformat_minor": 2
}
